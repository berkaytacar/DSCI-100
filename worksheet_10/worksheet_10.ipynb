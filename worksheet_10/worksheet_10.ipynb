{
 "cells": [
  {
   "cell_type": "markdown",
   "metadata": {
    "deletable": false,
    "editable": false,
    "nbgrader": {
     "cell_type": "markdown",
     "checksum": "80e4a276fc8e4507247380a738c16541",
     "grade": false,
     "grade_id": "cell-4e13769a31cd3f6c",
     "locked": true,
     "schema_version": 3,
     "solution": false,
     "task": false
    }
   },
   "source": [
    "# Worksheet 10 - Clustering\n",
    "\n",
    "### Lecture and Tutorial Learning Goals:\n",
    "\n",
    "After completing this week's lecture and tutorial work, you will be able to:\n",
    "\n",
    "* Describe a case where clustering would be an appropriate tool, and what insight it would bring from the data.\n",
    "* Explain the k-means clustering algorithm.\n",
    "* Interpret the output of a k-means cluster analysis.\n",
    "* Perform k-means clustering in R using k-means\n",
    "* Visualize the output of k-means clustering in R using a coloured scatter plot\n",
    "* Identify when it is necessary to scale variables before clustering and do this using R\n",
    "* Use the elbow method to choose the number of clusters for k-means\n",
    "* Describe advantages, limitations and assumptions of the k-means clustering algorithm."
   ]
  },
  {
   "cell_type": "code",
   "execution_count": 1,
   "metadata": {
    "deletable": false,
    "editable": false,
    "nbgrader": {
     "cell_type": "code",
     "checksum": "cfc5ee7f5dff62b8615ae0f951fd0fdd",
     "grade": false,
     "grade_id": "cell-692894fcc96c281b",
     "locked": true,
     "schema_version": 3,
     "solution": false,
     "task": false
    }
   },
   "outputs": [
    {
     "name": "stderr",
     "output_type": "stream",
     "text": [
      "── \u001b[1mAttaching packages\u001b[22m ─────────────────────────────────────── tidyverse 1.3.0 ──\n",
      "\n",
      "\u001b[32m✔\u001b[39m \u001b[34mggplot2\u001b[39m 3.3.2     \u001b[32m✔\u001b[39m \u001b[34mpurrr  \u001b[39m 0.3.4\n",
      "\u001b[32m✔\u001b[39m \u001b[34mtibble \u001b[39m 3.0.3     \u001b[32m✔\u001b[39m \u001b[34mdplyr  \u001b[39m 1.0.2\n",
      "\u001b[32m✔\u001b[39m \u001b[34mtidyr  \u001b[39m 1.1.2     \u001b[32m✔\u001b[39m \u001b[34mstringr\u001b[39m 1.4.0\n",
      "\u001b[32m✔\u001b[39m \u001b[34mreadr  \u001b[39m 1.3.1     \u001b[32m✔\u001b[39m \u001b[34mforcats\u001b[39m 0.5.0\n",
      "\n",
      "Warning message:\n",
      "“package ‘ggplot2’ was built under R version 4.0.1”\n",
      "Warning message:\n",
      "“package ‘tibble’ was built under R version 4.0.2”\n",
      "Warning message:\n",
      "“package ‘tidyr’ was built under R version 4.0.2”\n",
      "Warning message:\n",
      "“package ‘dplyr’ was built under R version 4.0.2”\n",
      "── \u001b[1mConflicts\u001b[22m ────────────────────────────────────────── tidyverse_conflicts() ──\n",
      "\u001b[31m✖\u001b[39m \u001b[34mdplyr\u001b[39m::\u001b[32mfilter()\u001b[39m masks \u001b[34mstats\u001b[39m::filter()\n",
      "\u001b[31m✖\u001b[39m \u001b[34mdplyr\u001b[39m::\u001b[32mlag()\u001b[39m    masks \u001b[34mstats\u001b[39m::lag()\n",
      "\n",
      "Warning message:\n",
      "“package ‘broom’ was built under R version 4.0.2”\n",
      "\n",
      "Attaching package: ‘testthat’\n",
      "\n",
      "\n",
      "The following object is masked from ‘package:dplyr’:\n",
      "\n",
      "    matches\n",
      "\n",
      "\n",
      "The following object is masked from ‘package:purrr’:\n",
      "\n",
      "    is_null\n",
      "\n",
      "\n",
      "The following object is masked from ‘package:tidyr’:\n",
      "\n",
      "    matches\n",
      "\n",
      "\n"
     ]
    }
   ],
   "source": [
    "### Run this cell before continuing.\n",
    "library(tidyverse)\n",
    "library(forcats)\n",
    "library(repr)\n",
    "library(broom)\n",
    "options(repr.matrix.max.rows = 6)\n",
    "source('tests_worksheet_10.R')\n",
    "source(\"cleanup_worksheet_10.R\")"
   ]
  },
  {
   "cell_type": "markdown",
   "metadata": {
    "deletable": false,
    "editable": false,
    "nbgrader": {
     "cell_type": "markdown",
     "checksum": "b1576a6390cee09caa44348f6111f0d6",
     "grade": false,
     "grade_id": "cell-353d89a0c34b681a",
     "locked": true,
     "schema_version": 3,
     "solution": false,
     "task": false
    }
   },
   "source": [
    "**Question 0.0** Multiple Choice:\n",
    "<br> {points: 1}\n",
    "\n",
    "In which of the following scenarios would clustering methods likely be appropriate?\n",
    "\n",
    "A. Identifying sub-groups of houses according to their house type, value, and geographical location\n",
    "\n",
    "B. Predicting whether a given user will click on an ad on a website\n",
    "\n",
    "C. Segmenting customers based on their preferences to target advertising\n",
    "\n",
    "D. Both A. and B.\n",
    "\n",
    "E. Both A. and C. \n",
    "\n",
    "*Assign your answer to an object called `answer0.0`. Make sure your answer is an uppercase letter and is surrounded by quotation marks (e.g. `\"F\"`).*"
   ]
  },
  {
   "cell_type": "code",
   "execution_count": 2,
   "metadata": {
    "deletable": false,
    "nbgrader": {
     "cell_type": "code",
     "checksum": "98f8e9fd12bc6e4c429aeab4f287df0a",
     "grade": false,
     "grade_id": "cell-5dbd8978b6a0a44c",
     "locked": false,
     "schema_version": 3,
     "solution": true
    }
   },
   "outputs": [],
   "source": [
    "# your code here\n",
    "answer0.0 <- \"E\""
   ]
  },
  {
   "cell_type": "code",
   "execution_count": 3,
   "metadata": {
    "deletable": false,
    "editable": false,
    "nbgrader": {
     "cell_type": "code",
     "checksum": "502b48b038fc06bf052b3b8cbcc6b861",
     "grade": true,
     "grade_id": "cell-13f71e2d909892e4",
     "locked": true,
     "points": 1,
     "schema_version": 3,
     "solution": false
    }
   },
   "outputs": [
    {
     "name": "stdout",
     "output_type": "stream",
     "text": [
      "[1] \"Success!\"\n"
     ]
    }
   ],
   "source": [
    "test_0.0()"
   ]
  },
  {
   "cell_type": "markdown",
   "metadata": {
    "deletable": false,
    "editable": false,
    "nbgrader": {
     "cell_type": "markdown",
     "checksum": "ccf9e8ea91b38060bde836fa89709216",
     "grade": false,
     "grade_id": "cell-ba0b77eef45527d2",
     "locked": true,
     "schema_version": 3,
     "solution": false,
     "task": false
    }
   },
   "source": [
    "**Question 0.1** Multiple Choice:\n",
    "<br> {points: 1}\n",
    "\n",
    "Which step in the description of the k-means algorithm below is *incorrect*?\n",
    "\n",
    "0. Choose the number of clusters\n",
    "\n",
    "1. Randomly assign each of the points to one of the clusters\n",
    "\n",
    "2. Calculate the position for the cluster centre (centroid) for each of the clusters (this is the middle of the points in the cluster, as measured by straight-line distance)\n",
    "\n",
    "3. Re-assign each of the points to the cluster who's centroid is furthest from that point\n",
    "\n",
    "4. Repeat steps 1 - 2 until the cluster centroids don't change very much between iterations\n",
    "\n",
    "*Assign your answer to an object called `answer0.1`. Your answer should be a single numerical character surrounded by quotes.*"
   ]
  },
  {
   "cell_type": "code",
   "execution_count": 4,
   "metadata": {
    "deletable": false,
    "nbgrader": {
     "cell_type": "code",
     "checksum": "14c3d242ec6e4c50a48381fb4cfccae7",
     "grade": false,
     "grade_id": "cell-4c524a7e35eb23bb",
     "locked": false,
     "schema_version": 3,
     "solution": true
    }
   },
   "outputs": [],
   "source": [
    "# your code here\n",
    "answer0.1 <- \"3\""
   ]
  },
  {
   "cell_type": "code",
   "execution_count": 5,
   "metadata": {
    "deletable": false,
    "editable": false,
    "nbgrader": {
     "cell_type": "code",
     "checksum": "6f5dfb2e8bf6bf040b42ab6c5165768b",
     "grade": true,
     "grade_id": "cell-4ac8aab3f8626a82",
     "locked": true,
     "points": 1,
     "schema_version": 3,
     "solution": false
    }
   },
   "outputs": [
    {
     "name": "stdout",
     "output_type": "stream",
     "text": [
      "[1] \"Success!\"\n"
     ]
    }
   ],
   "source": [
    "test_0.1()"
   ]
  },
  {
   "cell_type": "markdown",
   "metadata": {
    "deletable": false,
    "editable": false,
    "nbgrader": {
     "cell_type": "markdown",
     "checksum": "76c1cb83bb87ea8626ed64408c3a2e5c",
     "grade": false,
     "grade_id": "cell-3b5cd50b0518b4d1",
     "locked": true,
     "schema_version": 3,
     "solution": false,
     "task": false
    }
   },
   "source": [
    "## Hoppy Craft Beer\n",
    "\n",
    "Craft beer is a strong market in Canada and the US, and is expanding to other countries as well. If you wanted to get into the craft beer brewing market, you might want to better understand the product landscape. One popular craft beer product is hopped craft beer. Breweries create/label many different kinds of hopped craft beer, but how many different kinds of hopped craft beer are there really when you look at the chemical properties instead of the human labels? \n",
    "\n",
    "We will start to look at the question by looking at a [craft beer data set from Kaggle](https://www.kaggle.com/nickhould/craft-cans#beers.csv). In this data set, we will use the alcoholic content by volume  (`abv` column) and the International bittering units (`ibu` column) as variables to try to cluster the beers. The `abv` variable has values 0 (indicating no alcohol) up to 1 (pure alcohol) and the `ibu` variable quantifies the bitterness of the beer (higher values indicate higher bitterness)."
   ]
  },
  {
   "cell_type": "markdown",
   "metadata": {
    "deletable": false,
    "editable": false,
    "nbgrader": {
     "cell_type": "markdown",
     "checksum": "d3f9b9af91421126213ec2b9d42e8c5f",
     "grade": false,
     "grade_id": "cell-97bd85f0599a8d9d",
     "locked": true,
     "schema_version": 3,
     "solution": false,
     "task": false
    }
   },
   "source": [
    "**Question 1.0** \n",
    "<br> {points: 1}\n",
    "\n",
    "Read in the `beers.csv` data using `read_csv()` and assign it to an object called `beer`. The data is located within the `worksheet_10/data/` folder. \n",
    "\n",
    "*Assign your dataframe answer to an object called `beer`.*"
   ]
  },
  {
   "cell_type": "code",
   "execution_count": 6,
   "metadata": {
    "deletable": false,
    "nbgrader": {
     "cell_type": "code",
     "checksum": "43ef95bdfb2c2991205b3e47a956f545",
     "grade": false,
     "grade_id": "cell-b15ec51dce472f41",
     "locked": false,
     "schema_version": 3,
     "solution": true
    }
   },
   "outputs": [
    {
     "name": "stderr",
     "output_type": "stream",
     "text": [
      "Warning message:\n",
      "“Missing column names filled in: 'X1' [1]”\n",
      "Parsed with column specification:\n",
      "cols(\n",
      "  X1 = \u001b[32mcol_double()\u001b[39m,\n",
      "  abv = \u001b[32mcol_double()\u001b[39m,\n",
      "  ibu = \u001b[32mcol_double()\u001b[39m,\n",
      "  id = \u001b[32mcol_double()\u001b[39m,\n",
      "  name = \u001b[31mcol_character()\u001b[39m,\n",
      "  style = \u001b[31mcol_character()\u001b[39m,\n",
      "  brewery_id = \u001b[32mcol_double()\u001b[39m,\n",
      "  ounces = \u001b[32mcol_double()\u001b[39m\n",
      ")\n",
      "\n"
     ]
    },
    {
     "data": {
      "text/html": [
       "<table>\n",
       "<caption>A spec_tbl_df: 2410 × 8</caption>\n",
       "<thead>\n",
       "\t<tr><th scope=col>X1</th><th scope=col>abv</th><th scope=col>ibu</th><th scope=col>id</th><th scope=col>name</th><th scope=col>style</th><th scope=col>brewery_id</th><th scope=col>ounces</th></tr>\n",
       "\t<tr><th scope=col>&lt;dbl&gt;</th><th scope=col>&lt;dbl&gt;</th><th scope=col>&lt;dbl&gt;</th><th scope=col>&lt;dbl&gt;</th><th scope=col>&lt;chr&gt;</th><th scope=col>&lt;chr&gt;</th><th scope=col>&lt;dbl&gt;</th><th scope=col>&lt;dbl&gt;</th></tr>\n",
       "</thead>\n",
       "<tbody>\n",
       "\t<tr><td>0</td><td>0.050</td><td>NA</td><td>1436</td><td>Pub Beer           </td><td>American Pale Lager    </td><td>408</td><td>12</td></tr>\n",
       "\t<tr><td>1</td><td>0.066</td><td>NA</td><td>2265</td><td>Devil's Cup        </td><td>American Pale Ale (APA)</td><td>177</td><td>12</td></tr>\n",
       "\t<tr><td>2</td><td>0.071</td><td>NA</td><td>2264</td><td>Rise of the Phoenix</td><td>American IPA           </td><td>177</td><td>12</td></tr>\n",
       "\t<tr><td>⋮</td><td>⋮</td><td>⋮</td><td>⋮</td><td>⋮</td><td>⋮</td><td>⋮</td><td>⋮</td></tr>\n",
       "\t<tr><td>2407</td><td>0.055</td><td>NA</td><td>620</td><td>B3K Black Lager     </td><td>Schwarzbier             </td><td>424</td><td>12</td></tr>\n",
       "\t<tr><td>2408</td><td>0.055</td><td>40</td><td>145</td><td>Silverback Pale Ale </td><td>American Pale Ale (APA) </td><td>424</td><td>12</td></tr>\n",
       "\t<tr><td>2409</td><td>0.052</td><td>NA</td><td> 84</td><td>Rail Yard Ale (2009)</td><td>American Amber / Red Ale</td><td>424</td><td>12</td></tr>\n",
       "</tbody>\n",
       "</table>\n"
      ],
      "text/latex": [
       "A spec\\_tbl\\_df: 2410 × 8\n",
       "\\begin{tabular}{llllllll}\n",
       " X1 & abv & ibu & id & name & style & brewery\\_id & ounces\\\\\n",
       " <dbl> & <dbl> & <dbl> & <dbl> & <chr> & <chr> & <dbl> & <dbl>\\\\\n",
       "\\hline\n",
       "\t 0 & 0.050 & NA & 1436 & Pub Beer            & American Pale Lager     & 408 & 12\\\\\n",
       "\t 1 & 0.066 & NA & 2265 & Devil's Cup         & American Pale Ale (APA) & 177 & 12\\\\\n",
       "\t 2 & 0.071 & NA & 2264 & Rise of the Phoenix & American IPA            & 177 & 12\\\\\n",
       "\t ⋮ & ⋮ & ⋮ & ⋮ & ⋮ & ⋮ & ⋮ & ⋮\\\\\n",
       "\t 2407 & 0.055 & NA & 620 & B3K Black Lager      & Schwarzbier              & 424 & 12\\\\\n",
       "\t 2408 & 0.055 & 40 & 145 & Silverback Pale Ale  & American Pale Ale (APA)  & 424 & 12\\\\\n",
       "\t 2409 & 0.052 & NA &  84 & Rail Yard Ale (2009) & American Amber / Red Ale & 424 & 12\\\\\n",
       "\\end{tabular}\n"
      ],
      "text/markdown": [
       "\n",
       "A spec_tbl_df: 2410 × 8\n",
       "\n",
       "| X1 &lt;dbl&gt; | abv &lt;dbl&gt; | ibu &lt;dbl&gt; | id &lt;dbl&gt; | name &lt;chr&gt; | style &lt;chr&gt; | brewery_id &lt;dbl&gt; | ounces &lt;dbl&gt; |\n",
       "|---|---|---|---|---|---|---|---|\n",
       "| 0 | 0.050 | NA | 1436 | Pub Beer            | American Pale Lager     | 408 | 12 |\n",
       "| 1 | 0.066 | NA | 2265 | Devil's Cup         | American Pale Ale (APA) | 177 | 12 |\n",
       "| 2 | 0.071 | NA | 2264 | Rise of the Phoenix | American IPA            | 177 | 12 |\n",
       "| ⋮ | ⋮ | ⋮ | ⋮ | ⋮ | ⋮ | ⋮ | ⋮ |\n",
       "| 2407 | 0.055 | NA | 620 | B3K Black Lager      | Schwarzbier              | 424 | 12 |\n",
       "| 2408 | 0.055 | 40 | 145 | Silverback Pale Ale  | American Pale Ale (APA)  | 424 | 12 |\n",
       "| 2409 | 0.052 | NA |  84 | Rail Yard Ale (2009) | American Amber / Red Ale | 424 | 12 |\n",
       "\n"
      ],
      "text/plain": [
       "     X1   abv   ibu id   name                 style                   \n",
       "1    0    0.050 NA  1436 Pub Beer             American Pale Lager     \n",
       "2    1    0.066 NA  2265 Devil's Cup          American Pale Ale (APA) \n",
       "3    2    0.071 NA  2264 Rise of the Phoenix  American IPA            \n",
       "⋮    ⋮    ⋮     ⋮   ⋮    ⋮                    ⋮                       \n",
       "2408 2407 0.055 NA  620  B3K Black Lager      Schwarzbier             \n",
       "2409 2408 0.055 40  145  Silverback Pale Ale  American Pale Ale (APA) \n",
       "2410 2409 0.052 NA   84  Rail Yard Ale (2009) American Amber / Red Ale\n",
       "     brewery_id ounces\n",
       "1    408        12    \n",
       "2    177        12    \n",
       "3    177        12    \n",
       "⋮    ⋮          ⋮     \n",
       "2408 424        12    \n",
       "2409 424        12    \n",
       "2410 424        12    "
      ]
     },
     "metadata": {},
     "output_type": "display_data"
    }
   ],
   "source": [
    "# your code here\n",
    "beer <- read_csv(\"data/beers.csv\")\n",
    "beer"
   ]
  },
  {
   "cell_type": "code",
   "execution_count": 7,
   "metadata": {
    "deletable": false,
    "editable": false,
    "nbgrader": {
     "cell_type": "code",
     "checksum": "c2dace932ecbdb26d70dc250bd747375",
     "grade": true,
     "grade_id": "cell-7afc19b7bc727fc8",
     "locked": true,
     "points": 1,
     "schema_version": 3,
     "solution": false
    }
   },
   "outputs": [
    {
     "name": "stdout",
     "output_type": "stream",
     "text": [
      "[1] \"Success!\"\n"
     ]
    }
   ],
   "source": [
    "test_1.0()"
   ]
  },
  {
   "cell_type": "markdown",
   "metadata": {
    "deletable": false,
    "editable": false,
    "nbgrader": {
     "cell_type": "markdown",
     "checksum": "8dcf861b2888c3e09aec249d2755f4bd",
     "grade": false,
     "grade_id": "cell-eaefcd87f19fdf96",
     "locked": true,
     "schema_version": 3,
     "solution": false,
     "task": false
    }
   },
   "source": [
    "**Question 1.1**\n",
    "<br> {points: 1}\n",
    "\n",
    "Let's start by visualizing the variables we are going to use in our cluster analysis as a scatter plot. Put `ibu` on the horizontal axis, and `abv` on the vertical axis. Name the plot object `beer_eda`. \n",
    "\n",
    "*Remember to follow the best visualization practices, including adding human-readable labels to your plot.*"
   ]
  },
  {
   "cell_type": "code",
   "execution_count": 8,
   "metadata": {
    "deletable": false,
    "nbgrader": {
     "cell_type": "code",
     "checksum": "8a58784464e532430215f88b9a1fbf6a",
     "grade": false,
     "grade_id": "cell-685ad4bcdc753cbf",
     "locked": false,
     "schema_version": 3,
     "solution": true
    }
   },
   "outputs": [
    {
     "name": "stderr",
     "output_type": "stream",
     "text": [
      "Warning message:\n",
      "“Removed 1005 rows containing missing values (geom_point).”\n"
     ]
    },
    {
     "data": {
      "image/png": "[encoded data removed]",
      "text/plain": [
       "plot without title"
      ]
     },
     "metadata": {
      "image/png": {
       "height": 420,
       "width": 420
      }
     },
     "output_type": "display_data"
    }
   ],
   "source": [
    "# your code here\n",
    "beer_eda <- ggplot(beer, aes(x = ibu, y = abv)) +\n",
    "  geom_point() +\n",
    "  xlab(\"International Bittering Units (higher IBU higher bitterness)\") +\n",
    "  ylab(\"Alcholic Content by Volume (between 0 and 1)\")+\n",
    "  theme(text = element_text(size = 17))\n",
    "beer_eda"
   ]
  },
  {
   "cell_type": "code",
   "execution_count": 9,
   "metadata": {
    "deletable": false,
    "editable": false,
    "nbgrader": {
     "cell_type": "code",
     "checksum": "0ed664ed84f5cabfa93b155c1ef6f08a",
     "grade": true,
     "grade_id": "cell-a38c885f90300a1b",
     "locked": true,
     "points": 1,
     "schema_version": 3,
     "solution": false
    }
   },
   "outputs": [
    {
     "name": "stdout",
     "output_type": "stream",
     "text": [
      "[1] \"Success!\"\n"
     ]
    }
   ],
   "source": [
    "test_1.1()"
   ]
  },
  {
   "cell_type": "markdown",
   "metadata": {
    "deletable": false,
    "editable": false,
    "nbgrader": {
     "cell_type": "markdown",
     "checksum": "3e0b3201007f9b4b0b84c5bc5829e931",
     "grade": false,
     "grade_id": "cell-4826275eec3db51a",
     "locked": true,
     "schema_version": 3,
     "solution": false,
     "task": false
    }
   },
   "source": [
    "**Question 1.2**\n",
    "<br> {points: 1}\n",
    "\n",
    "We need to clean this data a bit. Specifically, we need to remove the rows where `ibu` is `NA`, and select only the columns we are interested in clustering, which are `ibu` and `abv`. \n",
    "\n",
    "*Assign your answer to an object named `clean_beer`.*"
   ]
  },
  {
   "cell_type": "code",
   "execution_count": 10,
   "metadata": {
    "deletable": false,
    "nbgrader": {
     "cell_type": "code",
     "checksum": "e817afc76a12c292d424621e4e4dd597",
     "grade": false,
     "grade_id": "cell-77a1b2827a0e31a3",
     "locked": false,
     "schema_version": 3,
     "solution": true
    }
   },
   "outputs": [
    {
     "data": {
      "text/html": [
       "<table>\n",
       "<caption>A tibble: 1405 × 2</caption>\n",
       "<thead>\n",
       "\t<tr><th scope=col>ibu</th><th scope=col>abv</th></tr>\n",
       "\t<tr><th scope=col>&lt;dbl&gt;</th><th scope=col>&lt;dbl&gt;</th></tr>\n",
       "</thead>\n",
       "<tbody>\n",
       "\t<tr><td>60</td><td>0.061</td></tr>\n",
       "\t<tr><td>92</td><td>0.099</td></tr>\n",
       "\t<tr><td>45</td><td>0.079</td></tr>\n",
       "\t<tr><td>⋮</td><td>⋮</td></tr>\n",
       "\t<tr><td>50</td><td>0.060</td></tr>\n",
       "\t<tr><td>45</td><td>0.067</td></tr>\n",
       "\t<tr><td>40</td><td>0.055</td></tr>\n",
       "</tbody>\n",
       "</table>\n"
      ],
      "text/latex": [
       "A tibble: 1405 × 2\n",
       "\\begin{tabular}{ll}\n",
       " ibu & abv\\\\\n",
       " <dbl> & <dbl>\\\\\n",
       "\\hline\n",
       "\t 60 & 0.061\\\\\n",
       "\t 92 & 0.099\\\\\n",
       "\t 45 & 0.079\\\\\n",
       "\t ⋮ & ⋮\\\\\n",
       "\t 50 & 0.060\\\\\n",
       "\t 45 & 0.067\\\\\n",
       "\t 40 & 0.055\\\\\n",
       "\\end{tabular}\n"
      ],
      "text/markdown": [
       "\n",
       "A tibble: 1405 × 2\n",
       "\n",
       "| ibu &lt;dbl&gt; | abv &lt;dbl&gt; |\n",
       "|---|---|\n",
       "| 60 | 0.061 |\n",
       "| 92 | 0.099 |\n",
       "| 45 | 0.079 |\n",
       "| ⋮ | ⋮ |\n",
       "| 50 | 0.060 |\n",
       "| 45 | 0.067 |\n",
       "| 40 | 0.055 |\n",
       "\n"
      ],
      "text/plain": [
       "     ibu abv  \n",
       "1    60  0.061\n",
       "2    92  0.099\n",
       "3    45  0.079\n",
       "⋮    ⋮   ⋮    \n",
       "1403 50  0.060\n",
       "1404 45  0.067\n",
       "1405 40  0.055"
      ]
     },
     "metadata": {},
     "output_type": "display_data"
    }
   ],
   "source": [
    "# your code here\n",
    "clean_beer <- filter(beer, ibu !=\"NA\") %>% select(ibu, abv)#drop_na(beer) %>%\n",
    "            #select(ibu, abv)\n",
    "clean_beer"
   ]
  },
  {
   "cell_type": "code",
   "execution_count": 11,
   "metadata": {
    "deletable": false,
    "editable": false,
    "nbgrader": {
     "cell_type": "code",
     "checksum": "de78d2939a1d0c13089fb8e0d8ea29f2",
     "grade": true,
     "grade_id": "cell-1ed1c760a10e3e9d",
     "locked": true,
     "points": 1,
     "schema_version": 3,
     "solution": false
    }
   },
   "outputs": [
    {
     "name": "stdout",
     "output_type": "stream",
     "text": [
      "[1] \"Success!\"\n"
     ]
    }
   ],
   "source": [
    "test_1.2()"
   ]
  },
  {
   "cell_type": "markdown",
   "metadata": {
    "deletable": false,
    "editable": false,
    "nbgrader": {
     "cell_type": "markdown",
     "checksum": "f78b64e7299ccf8c340f6f733265d7ab",
     "grade": false,
     "grade_id": "cell-98c23f6aa556be8b",
     "locked": true,
     "schema_version": 3,
     "solution": false,
     "task": false
    }
   },
   "source": [
    "**Question 1.3.1** Multiple Choice:\n",
    "<br>{points: 1}\n",
    "\n",
    "Why do we need to scale the variables when using k-means clustering?\n",
    "\n",
    "A. k-means uses the Euclidean distance to compute how similar data points are to each cluster center\n",
    "\n",
    "B. k-means is an iterative algorithm\n",
    "\n",
    "C. Some variables might be more important for prediction than others\n",
    "\n",
    "D. To make sure their mean is 0\n",
    "\n",
    "*Assign your answer to an object named `answer1.3.1`. Make sure your answer is an uppercase letter and is surrounded by quotation marks (e.g. `\"F\"`).*"
   ]
  },
  {
   "cell_type": "code",
   "execution_count": 12,
   "metadata": {
    "deletable": false,
    "nbgrader": {
     "cell_type": "code",
     "checksum": "523a381b6fa147dcca8608049d1b49c9",
     "grade": false,
     "grade_id": "cell-dabeb5fe0dacbc55",
     "locked": false,
     "schema_version": 3,
     "solution": true,
     "task": false
    }
   },
   "outputs": [],
   "source": [
    "# your code here\n",
    "answer1.3.1 <- \"A\""
   ]
  },
  {
   "cell_type": "code",
   "execution_count": 13,
   "metadata": {
    "deletable": false,
    "editable": false,
    "nbgrader": {
     "cell_type": "code",
     "checksum": "9cda8822c543af3178ac67125dcf8330",
     "grade": true,
     "grade_id": "cell-cee046b5d47ebb72",
     "locked": true,
     "points": 1,
     "schema_version": 3,
     "solution": false,
     "task": false
    }
   },
   "outputs": [
    {
     "name": "stdout",
     "output_type": "stream",
     "text": [
      "[1] \"Success!\"\n"
     ]
    }
   ],
   "source": [
    "test_1.3.1()"
   ]
  },
  {
   "cell_type": "markdown",
   "metadata": {
    "deletable": false,
    "editable": false,
    "nbgrader": {
     "cell_type": "markdown",
     "checksum": "3bcfaa9eccbeb12eb9ab6c4af14a0a56",
     "grade": false,
     "grade_id": "cell-b44ed52f8fdc5336",
     "locked": true,
     "schema_version": 3,
     "solution": false,
     "task": false
    }
   },
   "source": [
    "**Question 1.3.2**\n",
    "<br> {points: 1}\n",
    "\n",
    "Let's do that scaling now. Recall that we used a `recipe` for scaling when doing classification and regression. This is because we needed to be able to split train and test data, compute a standardization on *just* training data, and apply the standardization to *both* train and test data.\n",
    "\n",
    "But in clustering, there is no train/test split. So let's use the much simpler `scale` function in R. `scale` takes in a column of a dataframe and outputs the standardized version of it. We can therefore apply `scale` to all variables in the cleaned data frame using the `map_df` function.\n",
    "\n",
    "*Note: you could still use a recipe to do this, using `prep`/`bake` appropriately. But `scale` is much simpler.*\n",
    "\n",
    "*Assign your answer to an object named `scaled_beer`. Use the scaffolding provided.*"
   ]
  },
  {
   "cell_type": "code",
   "execution_count": 14,
   "metadata": {
    "deletable": false,
    "nbgrader": {
     "cell_type": "code",
     "checksum": "cdbc685825b49a874580b040a0a45614",
     "grade": false,
     "grade_id": "cell-db7d5a769e2ede77",
     "locked": false,
     "schema_version": 3,
     "solution": true
    }
   },
   "outputs": [
    {
     "data": {
      "text/html": [
       "<table>\n",
       "<caption>A tibble: 1405 × 2</caption>\n",
       "<thead>\n",
       "\t<tr><th scope=col>ibu</th><th scope=col>abv</th></tr>\n",
       "\t<tr><th scope=col>&lt;dbl[,1]&gt;</th><th scope=col>&lt;dbl[,1]&gt;</th></tr>\n",
       "</thead>\n",
       "<tbody>\n",
       "\t<tr><td>0.66605490</td><td>0.08000109</td></tr>\n",
       "\t<tr><td>1.89900237</td><td>2.87899086</td></tr>\n",
       "\t<tr><td>0.08811077</td><td>1.40583835</td></tr>\n",
       "\t<tr><td>⋮</td><td>⋮</td></tr>\n",
       "\t<tr><td> 0.28075881</td><td> 0.006343468</td></tr>\n",
       "\t<tr><td> 0.08811077</td><td> 0.521946846</td></tr>\n",
       "\t<tr><td>-0.10453727</td><td>-0.361944659</td></tr>\n",
       "</tbody>\n",
       "</table>\n"
      ],
      "text/latex": [
       "A tibble: 1405 × 2\n",
       "\\begin{tabular}{ll}\n",
       " ibu & abv\\\\\n",
       " <dbl{[},1{]}> & <dbl{[},1{]}>\\\\\n",
       "\\hline\n",
       "\t 0.66605490 & 0.08000109\\\\\n",
       "\t 1.89900237 & 2.87899086\\\\\n",
       "\t 0.08811077 & 1.40583835\\\\\n",
       "\t ⋮ & ⋮\\\\\n",
       "\t  0.28075881 &  0.006343468\\\\\n",
       "\t  0.08811077 &  0.521946846\\\\\n",
       "\t -0.10453727 & -0.361944659\\\\\n",
       "\\end{tabular}\n"
      ],
      "text/markdown": [
       "\n",
       "A tibble: 1405 × 2\n",
       "\n",
       "| ibu &lt;dbl[,1]&gt; | abv &lt;dbl[,1]&gt; |\n",
       "|---|---|\n",
       "| 0.66605490 | 0.08000109 |\n",
       "| 1.89900237 | 2.87899086 |\n",
       "| 0.08811077 | 1.40583835 |\n",
       "| ⋮ | ⋮ |\n",
       "|  0.28075881 |  0.006343468 |\n",
       "|  0.08811077 |  0.521946846 |\n",
       "| -0.10453727 | -0.361944659 |\n",
       "\n"
      ],
      "text/plain": [
       "     ibu         abv         \n",
       "1    0.66605490  0.08000109  \n",
       "2    1.89900237  2.87899086  \n",
       "3    0.08811077  1.40583835  \n",
       "⋮    ⋮           ⋮           \n",
       "1403  0.28075881  0.006343468\n",
       "1404  0.08811077  0.521946846\n",
       "1405 -0.10453727 -0.361944659"
      ]
     },
     "metadata": {},
     "output_type": "display_data"
    }
   ],
   "source": [
    "# ... <- ... %>% \n",
    "#    map_df(...)\n",
    "\n",
    "# your code here\n",
    "#scale\n",
    "scaled_beer <- clean_beer %>%\n",
    "                map_df(scale)\n",
    "scaled_beer"
   ]
  },
  {
   "cell_type": "code",
   "execution_count": 15,
   "metadata": {
    "deletable": false,
    "editable": false,
    "nbgrader": {
     "cell_type": "code",
     "checksum": "12a01fdf6aed74d07bf4dc4ba8aac99e",
     "grade": true,
     "grade_id": "cell-f4fa609002e00099",
     "locked": true,
     "points": 1,
     "schema_version": 3,
     "solution": false
    }
   },
   "outputs": [
    {
     "name": "stdout",
     "output_type": "stream",
     "text": [
      "[1] \"Success!\"\n"
     ]
    }
   ],
   "source": [
    "test_1.3.2()"
   ]
  },
  {
   "cell_type": "markdown",
   "metadata": {
    "deletable": false,
    "editable": false,
    "nbgrader": {
     "cell_type": "markdown",
     "checksum": "f43b4e69d2120e32a447ed643960ebc5",
     "grade": false,
     "grade_id": "cell-8c5a413f54e55216",
     "locked": true,
     "schema_version": 3,
     "solution": false,
     "task": false
    }
   },
   "source": [
    "**Question 1.4**\n",
    "<br> {points: 1}\n",
    "\n",
    "From our exploratory data visualization, 2 seems like a reasonable number of clusters. Use the `kmeans` function with `centers = 2` to perform clustering with this choice of $k$. \n",
    "\n",
    "*Assign your model to an object named `beer_cluster_k2`. Note that since k-means uses a random initialization, we need to set the seed again; don't change the value!*"
   ]
  },
  {
   "cell_type": "code",
   "execution_count": 16,
   "metadata": {
    "deletable": false,
    "nbgrader": {
     "cell_type": "code",
     "checksum": "2749f4a8adc1bde713c6926fd8ae2c97",
     "grade": false,
     "grade_id": "cell-59fd6cac5b722485",
     "locked": false,
     "schema_version": 3,
     "solution": true
    }
   },
   "outputs": [
    {
     "data": {
      "text/plain": [
       "K-means clustering with 2 clusters of sizes 917, 488\n",
       "\n",
       "Cluster means:\n",
       "         ibu        abv\n",
       "1 -0.5830271 -0.5506271\n",
       "2  1.0955653  1.0346824\n",
       "\n",
       "Clustering vector:\n",
       "   [1] 2 2 2 1 1 1 1 2 2 2 2 2 1 2 2 2 2 1 2 1 1 1 1 2 2 1 1 2 1 1 2 1 1 2 1 1 2\n",
       "  [38] 1 2 2 2 1 1 1 1 1 2 1 2 1 1 1 1 1 1 2 1 1 1 1 1 2 1 1 1 1 1 1 1 2 1 1 1 2\n",
       "  [75] 1 1 1 1 2 1 1 2 1 1 2 1 2 1 2 1 1 2 1 1 1 1 1 1 2 1 1 1 1 2 1 1 2 1 1 1 2\n",
       " [112] 2 1 1 2 2 1 2 2 1 1 1 2 1 1 2 1 1 2 2 1 1 2 1 1 1 2 1 2 1 1 1 1 1 2 2 2 2\n",
       " [149] 1 1 2 1 1 1 2 1 1 2 1 1 1 2 1 1 2 2 1 2 1 2 1 2 1 1 2 2 2 1 1 1 1 1 2 1 1\n",
       " [186] 1 1 2 2 1 1 2 1 1 1 1 1 1 1 2 1 1 1 2 1 1 2 1 1 1 1 1 1 1 1 1 1 1 2 1 1 2\n",
       " [223] 1 1 1 1 2 1 2 1 1 1 1 2 2 2 2 1 1 1 1 1 2 1 2 1 2 1 1 1 1 1 2 1 1 2 1 1 1\n",
       " [260] 2 2 1 1 1 1 1 1 2 2 2 1 1 1 1 1 2 1 1 1 1 2 1 2 1 2 1 1 1 2 2 1 1 1 1 1 1\n",
       " [297] 1 1 2 2 2 1 1 2 1 1 2 1 1 1 2 1 1 2 2 2 2 2 2 2 2 2 2 1 1 2 2 1 2 2 1 1 2\n",
       " [334] 1 2 1 1 2 1 1 2 2 1 1 1 1 2 1 1 1 1 1 2 2 1 2 2 1 1 2 1 1 1 1 2 1 1 1 1 2\n",
       " [371] 1 2 1 1 1 1 2 1 2 2 1 1 1 2 1 2 2 1 1 2 1 2 1 1 1 2 2 2 2 1 1 1 2 2 2 2 1\n",
       " [408] 1 1 2 1 2 1 2 1 1 2 2 1 2 1 2 2 1 1 1 1 2 2 1 2 1 1 2 1 1 1 2 1 1 1 2 2 1\n",
       " [445] 1 1 1 1 2 1 1 1 1 2 1 1 1 2 2 1 1 2 2 1 2 2 2 2 1 2 2 1 2 2 2 1 1 2 1 1 2\n",
       " [482] 1 2 1 1 1 1 1 1 1 1 1 1 1 1 1 1 1 2 1 1 1 1 1 1 1 1 1 2 2 1 1 1 2 1 2 1 1\n",
       " [519] 1 1 1 1 1 1 1 1 2 1 2 1 1 1 1 1 1 1 2 2 1 1 1 1 1 1 1 1 1 1 1 1 2 2 1 1 1\n",
       " [556] 2 1 1 1 1 1 1 1 1 1 1 1 1 1 2 1 2 2 1 1 2 2 1 2 1 1 1 1 1 1 1 1 1 1 2 2 1\n",
       " [593] 1 2 2 1 1 1 1 1 1 1 1 1 1 1 1 1 1 1 1 2 1 2 2 2 2 2 1 2 1 2 1 1 1 2 1 1 1\n",
       " [630] 1 1 2 1 1 2 1 1 1 2 2 1 1 1 1 2 1 1 1 1 1 1 1 1 2 1 1 2 1 2 1 1 1 2 2 1 2\n",
       " [667] 1 2 1 2 1 1 1 1 1 1 1 2 1 1 1 1 2 2 2 1 1 1 1 1 2 1 1 1 1 1 1 1 1 1 1 1 2\n",
       " [704] 1 1 1 1 1 1 1 1 1 1 2 1 1 1 1 1 1 1 2 1 2 2 2 1 2 1 1 2 1 2 2 1 1 1 1 2 1\n",
       " [741] 1 1 2 1 1 1 2 2 1 1 1 1 1 1 2 1 2 2 1 1 2 2 2 1 2 1 1 1 2 1 2 1 1 1 2 1 2\n",
       " [778] 2 2 1 2 1 1 1 2 1 1 1 1 1 1 1 1 1 2 1 1 1 1 1 2 1 1 1 1 1 1 2 2 1 2 1 1 1\n",
       " [815] 1 2 1 1 1 1 1 1 2 1 2 1 1 2 2 1 1 1 1 1 2 1 1 1 1 1 1 1 2 1 2 1 1 2 2 1 1\n",
       " [852] 1 2 2 1 2 1 1 1 1 1 2 1 1 2 2 1 2 2 2 2 2 2 2 2 2 2 2 1 2 2 2 2 2 2 2 2 2\n",
       " [889] 2 2 2 2 2 2 2 2 2 2 2 2 2 1 1 1 1 1 1 1 1 1 2 1 1 1 1 1 2 2 1 1 2 1 1 1 1\n",
       " [926] 1 2 2 2 1 1 1 1 1 1 2 2 1 1 1 1 1 1 2 1 1 1 1 1 1 2 1 1 2 1 1 1 1 2 2 1 1\n",
       " [963] 1 1 1 1 1 1 1 2 2 2 1 2 1 1 1 1 1 2 1 1 1 2 1 1 1 2 1 1 1 2 2 2 2 1 1 1 2\n",
       "[1000] 1 2 1 1 2 1 1 1 2 2 1 1 1 2 1 1 1 1 2 1 1 1 1 2 2 1 2 1 1 1 1 1 1 2 2 2 2\n",
       "[1037] 1 2 1 2 2 2 1 1 1 2 1 2 1 1 2 1 2 2 2 1 1 2 2 2 1 1 1 2 2 1 1 1 2 2 2 1 1\n",
       "[1074] 1 2 1 2 2 1 1 1 1 2 1 2 1 1 1 1 2 1 1 1 1 1 1 1 2 2 2 2 1 1 2 2 1 1 1 1 2\n",
       "[1111] 2 2 1 2 1 2 1 1 2 1 1 2 2 2 2 1 2 1 2 1 1 1 1 1 1 2 1 2 2 1 1 2 1 1 1 1 1\n",
       "[1148] 2 1 1 1 1 1 1 1 1 1 1 1 1 1 1 1 1 1 2 1 1 1 1 1 1 2 1 1 1 2 2 2 1 2 2 2 2\n",
       "[1185] 2 2 2 1 2 1 1 1 2 2 1 1 1 2 2 2 1 2 1 1 1 2 2 2 1 1 1 1 2 1 1 2 2 1 1 1 1\n",
       "[1222] 1 2 1 1 1 1 1 1 2 1 1 1 1 2 1 2 1 1 1 1 2 1 1 2 2 1 2 1 1 1 1 2 2 2 1 2 1\n",
       "[1259] 1 1 1 2 1 1 2 1 1 1 1 1 2 1 1 1 1 1 1 1 1 2 2 1 1 1 1 2 1 1 1 1 1 2 1 2 1\n",
       "[1296] 2 1 2 2 1 2 1 2 1 1 1 1 2 2 1 1 1 2 1 2 1 1 1 1 1 2 1 1 1 2 1 1 2 1 1 2 1\n",
       "[1333] 2 1 1 1 1 2 1 2 2 2 1 1 1 2 2 2 2 2 2 2 2 2 1 1 1 2 1 1 1 1 1 1 1 1 1 2 1\n",
       "[1370] 1 2 1 1 1 1 2 1 2 2 1 1 1 1 1 1 1 2 2 2 1 2 1 2 2 1 2 1 2 2 1 2 2 1 2 1\n",
       "\n",
       "Within cluster sum of squares by cluster:\n",
       "[1] 465.5831 644.5188\n",
       " (between_SS / total_SS =  60.5 %)\n",
       "\n",
       "Available components:\n",
       "\n",
       "[1] \"cluster\"      \"centers\"      \"totss\"        \"withinss\"     \"tot.withinss\"\n",
       "[6] \"betweenss\"    \"size\"         \"iter\"         \"ifault\"      "
      ]
     },
     "metadata": {},
     "output_type": "display_data"
    }
   ],
   "source": [
    "# DON'T CHANGE THE SEED VALUE!\n",
    "set.seed(1234)\n",
    "\n",
    "# ... <- kmeans(..., centers = 2)\n",
    "# your code here\n",
    "beer_cluster_k2 <- kmeans(scaled_beer, centers = 2)\n",
    "beer_cluster_k2"
   ]
  },
  {
   "cell_type": "code",
   "execution_count": 17,
   "metadata": {
    "deletable": false,
    "editable": false,
    "nbgrader": {
     "cell_type": "code",
     "checksum": "0f524f7823caadf1939ffdc76d144cce",
     "grade": true,
     "grade_id": "cell-b9995d961e6abdd4",
     "locked": true,
     "points": 1,
     "schema_version": 3,
     "solution": false
    }
   },
   "outputs": [
    {
     "name": "stdout",
     "output_type": "stream",
     "text": [
      "[1] \"Success!\"\n"
     ]
    }
   ],
   "source": [
    "test_1.4()"
   ]
  },
  {
   "cell_type": "markdown",
   "metadata": {
    "deletable": false,
    "editable": false,
    "nbgrader": {
     "cell_type": "markdown",
     "checksum": "bc3148af7b25e7a39c2e27b4a540c356",
     "grade": false,
     "grade_id": "cell-b40335391796b8bc",
     "locked": true,
     "schema_version": 3,
     "solution": false,
     "task": false
    }
   },
   "source": [
    "**Question 1.5**\n",
    "<br> {points: 1}\n",
    "\n",
    "Use the `augment` function from the `broom` package to get the cluster assignment for each point in the `scaled_beer` data frame. \n",
    "\n",
    "*Assign your answer to an object named `tidy_beer_cluster_k2`.* "
   ]
  },
  {
   "cell_type": "code",
   "execution_count": 18,
   "metadata": {
    "deletable": false,
    "nbgrader": {
     "cell_type": "code",
     "checksum": "8c77a0f6a44bbc0df101fd6b48d73b2e",
     "grade": false,
     "grade_id": "cell-09a5a07201a2f1e3",
     "locked": false,
     "schema_version": 3,
     "solution": true
    }
   },
   "outputs": [
    {
     "data": {
      "text/html": [
       "<table>\n",
       "<caption>A tibble: 1405 × 3</caption>\n",
       "<thead>\n",
       "\t<tr><th scope=col>ibu</th><th scope=col>abv</th><th scope=col>.cluster</th></tr>\n",
       "\t<tr><th scope=col>&lt;dbl[,1]&gt;</th><th scope=col>&lt;dbl[,1]&gt;</th><th scope=col>&lt;fct&gt;</th></tr>\n",
       "</thead>\n",
       "<tbody>\n",
       "\t<tr><td>0.66605490</td><td>0.08000109</td><td>2</td></tr>\n",
       "\t<tr><td>1.89900237</td><td>2.87899086</td><td>2</td></tr>\n",
       "\t<tr><td>0.08811077</td><td>1.40583835</td><td>2</td></tr>\n",
       "\t<tr><td>⋮</td><td>⋮</td><td>⋮</td></tr>\n",
       "\t<tr><td> 0.28075881</td><td> 0.006343468</td><td>1</td></tr>\n",
       "\t<tr><td> 0.08811077</td><td> 0.521946846</td><td>2</td></tr>\n",
       "\t<tr><td>-0.10453727</td><td>-0.361944659</td><td>1</td></tr>\n",
       "</tbody>\n",
       "</table>\n"
      ],
      "text/latex": [
       "A tibble: 1405 × 3\n",
       "\\begin{tabular}{lll}\n",
       " ibu & abv & .cluster\\\\\n",
       " <dbl{[},1{]}> & <dbl{[},1{]}> & <fct>\\\\\n",
       "\\hline\n",
       "\t 0.66605490 & 0.08000109 & 2\\\\\n",
       "\t 1.89900237 & 2.87899086 & 2\\\\\n",
       "\t 0.08811077 & 1.40583835 & 2\\\\\n",
       "\t ⋮ & ⋮ & ⋮\\\\\n",
       "\t  0.28075881 &  0.006343468 & 1\\\\\n",
       "\t  0.08811077 &  0.521946846 & 2\\\\\n",
       "\t -0.10453727 & -0.361944659 & 1\\\\\n",
       "\\end{tabular}\n"
      ],
      "text/markdown": [
       "\n",
       "A tibble: 1405 × 3\n",
       "\n",
       "| ibu &lt;dbl[,1]&gt; | abv &lt;dbl[,1]&gt; | .cluster &lt;fct&gt; |\n",
       "|---|---|---|\n",
       "| 0.66605490 | 0.08000109 | 2 |\n",
       "| 1.89900237 | 2.87899086 | 2 |\n",
       "| 0.08811077 | 1.40583835 | 2 |\n",
       "| ⋮ | ⋮ | ⋮ |\n",
       "|  0.28075881 |  0.006343468 | 1 |\n",
       "|  0.08811077 |  0.521946846 | 2 |\n",
       "| -0.10453727 | -0.361944659 | 1 |\n",
       "\n"
      ],
      "text/plain": [
       "     ibu         abv          .cluster\n",
       "1    0.66605490  0.08000109   2       \n",
       "2    1.89900237  2.87899086   2       \n",
       "3    0.08811077  1.40583835   2       \n",
       "⋮    ⋮           ⋮            ⋮       \n",
       "1403  0.28075881  0.006343468 1       \n",
       "1404  0.08811077  0.521946846 2       \n",
       "1405 -0.10453727 -0.361944659 1       "
      ]
     },
     "metadata": {},
     "output_type": "display_data"
    }
   ],
   "source": [
    "# ... <- augment(..., ...)\n",
    "# your code here\n",
    "tidy_beer_cluster_k2 <- augment(beer_cluster_k2, scaled_beer)\n",
    "tidy_beer_cluster_k2"
   ]
  },
  {
   "cell_type": "code",
   "execution_count": 19,
   "metadata": {
    "deletable": false,
    "editable": false,
    "nbgrader": {
     "cell_type": "code",
     "checksum": "6e624e23235524c1d402cb4d70184816",
     "grade": true,
     "grade_id": "cell-46d87f5ee36a932c",
     "locked": true,
     "points": 1,
     "schema_version": 3,
     "solution": false
    }
   },
   "outputs": [
    {
     "name": "stdout",
     "output_type": "stream",
     "text": [
      "[1] \"Success!\"\n"
     ]
    }
   ],
   "source": [
    "test_1.5()"
   ]
  },
  {
   "cell_type": "markdown",
   "metadata": {
    "deletable": false,
    "editable": false,
    "nbgrader": {
     "cell_type": "markdown",
     "checksum": "20ea6c2f74e47fa3f2060e4ff20de196",
     "grade": false,
     "grade_id": "cell-6adf5ec5d9d2f3ef",
     "locked": true,
     "schema_version": 3,
     "solution": false,
     "task": false
    }
   },
   "source": [
    "**Question 1.6**\n",
    "<br> {points: 1}\n",
    "\n",
    "Create a scatter plot of `abv` on the y-axis versus `ibu` on the x-axis (using the data in `tidy_beer_cluster_k2`) where the points are labelled by their cluster assignment. Name the plot object `tidy_beer_cluster_k2_plot`."
   ]
  },
  {
   "cell_type": "code",
   "execution_count": 20,
   "metadata": {
    "deletable": false,
    "nbgrader": {
     "cell_type": "code",
     "checksum": "9a04cbbcb904c19ef9bdd457866df58c",
     "grade": false,
     "grade_id": "cell-70d2a62ba35172b0",
     "locked": false,
     "schema_version": 3,
     "solution": true
    }
   },
   "outputs": [
    {
     "data": {
      "image/png": "[encoded data removed]",
      "text/plain": [
       "plot without title"
      ]
     },
     "metadata": {
      "image/png": {
       "height": 420,
       "width": 600
      }
     },
     "output_type": "display_data"
    }
   ],
   "source": [
    "# your code here\n",
    "options(repr.plot.width = 10, repr.plot.height = 7)\n",
    "tidy_beer_cluster_k2_plot <- ggplot(tidy_beer_cluster_k2,\n",
    "  aes(x = ibu, \n",
    "      y = abv, \n",
    "      color = .cluster), \n",
    "  size = 2) +\n",
    "  geom_point() +\n",
    "  labs(x = \"IBU (standardized)\", \n",
    "       y = \"ABV (standardized)\", \n",
    "       color = \"Cluster\") + \n",
    "  scale_color_manual(values = c(\"dodgerblue3\",\n",
    "                                \"darkorange3\"))+\n",
    "   theme(text = element_text(size = 14))\n",
    "tidy_beer_cluster_k2_plot"
   ]
  },
  {
   "cell_type": "code",
   "execution_count": 21,
   "metadata": {
    "deletable": false,
    "editable": false,
    "nbgrader": {
     "cell_type": "code",
     "checksum": "e1663ac6d9c11c49824ac42282bc124e",
     "grade": true,
     "grade_id": "cell-f8a27de5ec7f09e6",
     "locked": true,
     "points": 1,
     "schema_version": 3,
     "solution": false
    }
   },
   "outputs": [
    {
     "name": "stdout",
     "output_type": "stream",
     "text": [
      "[1] \"Success!\"\n"
     ]
    }
   ],
   "source": [
    "test_1.6()"
   ]
  },
  {
   "cell_type": "markdown",
   "metadata": {
    "deletable": false,
    "editable": false,
    "nbgrader": {
     "cell_type": "markdown",
     "checksum": "bddcfea284859007e3f780712c36edff",
     "grade": false,
     "grade_id": "cell-97f33922ed0d39e8",
     "locked": true,
     "schema_version": 3,
     "solution": false,
     "task": false
    }
   },
   "source": [
    "**Question 1.7.1** Multiple Choice:\n",
    "<br> {points: 1}\n",
    "\n",
    "We do not know, however, that two clusters ($k$ = 2) is the best choice for this data set. What can we do to choose the best K?\n",
    "\n",
    "A. Perform *cross-validation* for a variety of possible $k$'s. Choose the one where within-cluster sum of squares distance starts to *decrease less*.\n",
    "\n",
    "B. Perform *cross-validation* for a variety of possible $k$'s. Choose the one where the within-cluster sum of squares distance starts to *decrease more*. \n",
    "\n",
    "C. Perform *clustering* for a variety of possible $k$'s. Choose the one where within-cluster sum of squares distance starts to *decrease less*.\n",
    "\n",
    "D. Perform *clustering* for a variety of possible $k$'s. Choose the one where the within-cluster sum of squares distance starts to *decrease more*. \n",
    "\n",
    "*Assign your answer to an object called `answer1.7.1`. Make sure your answer is an uppercase letter and is surrounded by quotation marks (e.g. `\"F\"`).*"
   ]
  },
  {
   "cell_type": "code",
   "execution_count": 22,
   "metadata": {
    "deletable": false,
    "nbgrader": {
     "cell_type": "code",
     "checksum": "bcb77ef6634005033f2705240c94fc5a",
     "grade": false,
     "grade_id": "cell-61e001fe5e991523",
     "locked": false,
     "schema_version": 3,
     "solution": true
    }
   },
   "outputs": [],
   "source": [
    "# your code here\n",
    "answer1.7.1 <- \"C\""
   ]
  },
  {
   "cell_type": "code",
   "execution_count": 23,
   "metadata": {
    "deletable": false,
    "editable": false,
    "nbgrader": {
     "cell_type": "code",
     "checksum": "baf09c264b2c98bb82208c9f2b22b52c",
     "grade": true,
     "grade_id": "cell-693552f36c9a4230",
     "locked": true,
     "points": 1,
     "schema_version": 3,
     "solution": false
    }
   },
   "outputs": [
    {
     "name": "stdout",
     "output_type": "stream",
     "text": [
      "[1] \"Success!\"\n"
     ]
    }
   ],
   "source": [
    "test_1.7.1()"
   ]
  },
  {
   "cell_type": "markdown",
   "metadata": {
    "deletable": false,
    "editable": false,
    "nbgrader": {
     "cell_type": "markdown",
     "checksum": "00c819adb24b54a40d736eb51b2eaae2",
     "grade": false,
     "grade_id": "cell-d884f2f1c5ea8b43",
     "locked": true,
     "schema_version": 3,
     "solution": false,
     "task": false
    }
   },
   "source": [
    "**Question 1.7.2**\n",
    "<br> {points: 1}\n",
    "\n",
    "Use the `glance` function from the `broom` library to get the model-level statistics for the clustering we just performed, including total within-cluster sum of squares. \n",
    "\n",
    "*Assign your answer to an object named `beer_cluster_k2_model_stats`.*"
   ]
  },
  {
   "cell_type": "code",
   "execution_count": 24,
   "metadata": {
    "deletable": false,
    "nbgrader": {
     "cell_type": "code",
     "checksum": "d261f0cadd65590f4b7a798609fbc70a",
     "grade": false,
     "grade_id": "cell-868cebb3f86944d1",
     "locked": false,
     "schema_version": 3,
     "solution": true
    }
   },
   "outputs": [
    {
     "data": {
      "text/html": [
       "<table>\n",
       "<caption>A tibble: 1 × 4</caption>\n",
       "<thead>\n",
       "\t<tr><th scope=col>totss</th><th scope=col>tot.withinss</th><th scope=col>betweenss</th><th scope=col>iter</th></tr>\n",
       "\t<tr><th scope=col>&lt;dbl&gt;</th><th scope=col>&lt;dbl&gt;</th><th scope=col>&lt;dbl&gt;</th><th scope=col>&lt;int&gt;</th></tr>\n",
       "</thead>\n",
       "<tbody>\n",
       "\t<tr><td>2808</td><td>1110.102</td><td>1697.898</td><td>1</td></tr>\n",
       "</tbody>\n",
       "</table>\n"
      ],
      "text/latex": [
       "A tibble: 1 × 4\n",
       "\\begin{tabular}{llll}\n",
       " totss & tot.withinss & betweenss & iter\\\\\n",
       " <dbl> & <dbl> & <dbl> & <int>\\\\\n",
       "\\hline\n",
       "\t 2808 & 1110.102 & 1697.898 & 1\\\\\n",
       "\\end{tabular}\n"
      ],
      "text/markdown": [
       "\n",
       "A tibble: 1 × 4\n",
       "\n",
       "| totss &lt;dbl&gt; | tot.withinss &lt;dbl&gt; | betweenss &lt;dbl&gt; | iter &lt;int&gt; |\n",
       "|---|---|---|---|\n",
       "| 2808 | 1110.102 | 1697.898 | 1 |\n",
       "\n"
      ],
      "text/plain": [
       "  totss tot.withinss betweenss iter\n",
       "1 2808  1110.102     1697.898  1   "
      ]
     },
     "metadata": {},
     "output_type": "display_data"
    }
   ],
   "source": [
    "# your code here\n",
    "beer_cluster_k2_model_stats <- glance(beer_cluster_k2)\n",
    "beer_cluster_k2_model_stats"
   ]
  },
  {
   "cell_type": "code",
   "execution_count": 25,
   "metadata": {
    "deletable": false,
    "editable": false,
    "nbgrader": {
     "cell_type": "code",
     "checksum": "db22bcda65422b52bf1a8d62ee4bf480",
     "grade": true,
     "grade_id": "cell-31427d5e0afe53be",
     "locked": true,
     "points": 1,
     "schema_version": 3,
     "solution": false
    }
   },
   "outputs": [
    {
     "name": "stdout",
     "output_type": "stream",
     "text": [
      "[1] \"Success!\"\n"
     ]
    }
   ],
   "source": [
    "test_1.7.2()"
   ]
  },
  {
   "cell_type": "markdown",
   "metadata": {
    "deletable": false,
    "editable": false,
    "nbgrader": {
     "cell_type": "markdown",
     "checksum": "a82ae774c2b0550ac215102086dd82b8",
     "grade": false,
     "grade_id": "cell-42cd7e853af98bb1",
     "locked": true,
     "schema_version": 3,
     "solution": false,
     "task": false
    }
   },
   "source": [
    "**Question 1.8**\n",
    "<br> {points: 1}\n",
    "\n",
    "Let's now choose the best K for this clustering problem. To do this we need to create a tibble with a column named `k`, where $k$ has values 1 to 10. \n",
    "\n",
    "*Assign your answer to an object named `beer_ks`.*"
   ]
  },
  {
   "cell_type": "code",
   "execution_count": 26,
   "metadata": {
    "deletable": false,
    "nbgrader": {
     "cell_type": "code",
     "checksum": "70aeede42d313c34dde1c92131e18a4c",
     "grade": false,
     "grade_id": "cell-2291e50c08f701d2",
     "locked": false,
     "schema_version": 3,
     "solution": true
    }
   },
   "outputs": [
    {
     "data": {
      "text/html": [
       "<table>\n",
       "<caption>A tibble: 10 × 1</caption>\n",
       "<thead>\n",
       "\t<tr><th scope=col>k</th></tr>\n",
       "\t<tr><th scope=col>&lt;int&gt;</th></tr>\n",
       "</thead>\n",
       "<tbody>\n",
       "\t<tr><td>1</td></tr>\n",
       "\t<tr><td>2</td></tr>\n",
       "\t<tr><td>3</td></tr>\n",
       "\t<tr><td>⋮</td></tr>\n",
       "\t<tr><td> 8</td></tr>\n",
       "\t<tr><td> 9</td></tr>\n",
       "\t<tr><td>10</td></tr>\n",
       "</tbody>\n",
       "</table>\n"
      ],
      "text/latex": [
       "A tibble: 10 × 1\n",
       "\\begin{tabular}{l}\n",
       " k\\\\\n",
       " <int>\\\\\n",
       "\\hline\n",
       "\t 1\\\\\n",
       "\t 2\\\\\n",
       "\t 3\\\\\n",
       "\t ⋮\\\\\n",
       "\t  8\\\\\n",
       "\t  9\\\\\n",
       "\t 10\\\\\n",
       "\\end{tabular}\n"
      ],
      "text/markdown": [
       "\n",
       "A tibble: 10 × 1\n",
       "\n",
       "| k &lt;int&gt; |\n",
       "|---|\n",
       "| 1 |\n",
       "| 2 |\n",
       "| 3 |\n",
       "| ⋮ |\n",
       "|  8 |\n",
       "|  9 |\n",
       "| 10 |\n",
       "\n"
      ],
      "text/plain": [
       "   k \n",
       "1  1 \n",
       "2  2 \n",
       "3  3 \n",
       "⋮  ⋮ \n",
       "8   8\n",
       "9   9\n",
       "10 10"
      ]
     },
     "metadata": {},
     "output_type": "display_data"
    }
   ],
   "source": [
    "# your code here\n",
    "beer_ks <- tibble(k = 1:10)\n",
    "beer_ks"
   ]
  },
  {
   "cell_type": "code",
   "execution_count": 27,
   "metadata": {
    "deletable": false,
    "editable": false,
    "nbgrader": {
     "cell_type": "code",
     "checksum": "80742e45ee1837988a22721cefd20487",
     "grade": true,
     "grade_id": "cell-58c958b24994d60d",
     "locked": true,
     "points": 1,
     "schema_version": 3,
     "solution": false
    }
   },
   "outputs": [
    {
     "name": "stdout",
     "output_type": "stream",
     "text": [
      "[1] \"Success!\"\n"
     ]
    }
   ],
   "source": [
    "test_1.8()"
   ]
  },
  {
   "cell_type": "markdown",
   "metadata": {
    "deletable": false,
    "editable": false,
    "nbgrader": {
     "cell_type": "markdown",
     "checksum": "c85bc9cfeffa6761a621b1f9e9678cc4",
     "grade": false,
     "grade_id": "cell-39c29b9969ea902b",
     "locked": true,
     "schema_version": 3,
     "solution": false,
     "task": false
    }
   },
   "source": [
    "**Question 1.9**\n",
    "<br> {points: 1}\n",
    "\n",
    "Next we use `mutate` to create a new column named `models` in `beer_ks`, where we use `map` to apply the `kmeans` function to our `scaled_beer` data set for each of the $k$'s . \n",
    "\n",
    "> This is a more complicated use of the `map` function than we have seen previously in the course. This is because we need to iterate over the different values of $k$, which is the second argument to the `kmeans` function. In the past, we have used `map` only to iterate over values of the first argument of a function. Since that is the default, we could simply write `map(data_frame, function_name)`. This won’t work here; we need to provide our data frame as the first argument to the `kmeans` function. You might want to refer back to the section of the textbook that explains before completing this question: [K-means in R](https://ubc-dsci.github.io/introduction-to-datascience/clustering.html#k-means-in-r)\n",
    "\n",
    "This will give us a data frame with two columns, the first being `k`, which holds the values of the $k$'s we mapped (i.e, iterated) over. The second will be `models`, which holds the $k$-means model fits for each of the $k$'s we mapped over. \n",
    "\n",
    "> This second column is a new type of column, that we have not yet encountered in this course. It is called a list column. It can contain more complex objects, like models and even data frames (as we will see in a later question). In Jupyter it is easier to preview and understand this more complex data frame using the `print` function as opposed to calling the data frame itself as we usually do. This is a current limitation of Jupyter's rendering of R's output and will hopefully be fixed in the future.  \n",
    "\n",
    "*Assign your answer to an object named `beer_clustering`.*"
   ]
  },
  {
   "cell_type": "code",
   "execution_count": 28,
   "metadata": {
    "deletable": false,
    "nbgrader": {
     "cell_type": "code",
     "checksum": "b43e132c3c456ad815e121011bd3e9d6",
     "grade": false,
     "grade_id": "cell-ad2989c2822a50e3",
     "locked": false,
     "schema_version": 3,
     "solution": true
    }
   },
   "outputs": [
    {
     "name": "stdout",
     "output_type": "stream",
     "text": [
      "\u001b[90m# A tibble: 10 x 2\u001b[39m\n",
      "       k models  \n",
      "   \u001b[3m\u001b[90m<int>\u001b[39m\u001b[23m \u001b[3m\u001b[90m<list>\u001b[39m\u001b[23m  \n",
      "\u001b[90m 1\u001b[39m     1 \u001b[90m<kmeans>\u001b[39m\n",
      "\u001b[90m 2\u001b[39m     2 \u001b[90m<kmeans>\u001b[39m\n",
      "\u001b[90m 3\u001b[39m     3 \u001b[90m<kmeans>\u001b[39m\n",
      "\u001b[90m 4\u001b[39m     4 \u001b[90m<kmeans>\u001b[39m\n",
      "\u001b[90m 5\u001b[39m     5 \u001b[90m<kmeans>\u001b[39m\n",
      "\u001b[90m 6\u001b[39m     6 \u001b[90m<kmeans>\u001b[39m\n",
      "\u001b[90m 7\u001b[39m     7 \u001b[90m<kmeans>\u001b[39m\n",
      "\u001b[90m 8\u001b[39m     8 \u001b[90m<kmeans>\u001b[39m\n",
      "\u001b[90m 9\u001b[39m     9 \u001b[90m<kmeans>\u001b[39m\n",
      "\u001b[90m10\u001b[39m    10 \u001b[90m<kmeans>\u001b[39m\n"
     ]
    }
   ],
   "source": [
    "set.seed(1234) # DO NOT REMOVE\n",
    "# ... <- ... %>%\n",
    "    # mutate(models = map(..., ~kmeans(scaled_beer, .x)))\n",
    "\n",
    "# your code here\n",
    "beer_clustering <- beer_ks %>%\n",
    "    mutate(models = map(k, ~kmeans(scaled_beer, .x)))\n",
    "print(beer_clustering)"
   ]
  },
  {
   "cell_type": "code",
   "execution_count": 29,
   "metadata": {
    "deletable": false,
    "editable": false,
    "nbgrader": {
     "cell_type": "code",
     "checksum": "abed70a2e0ace4fe2bc25a0dd6c0744f",
     "grade": true,
     "grade_id": "cell-ed0f2e1a31372296",
     "locked": true,
     "points": 1,
     "schema_version": 3,
     "solution": false
    }
   },
   "outputs": [
    {
     "name": "stdout",
     "output_type": "stream",
     "text": [
      "[1] \"Success!\"\n"
     ]
    }
   ],
   "source": [
    "test_1.9()"
   ]
  },
  {
   "cell_type": "markdown",
   "metadata": {
    "deletable": false,
    "editable": false,
    "nbgrader": {
     "cell_type": "markdown",
     "checksum": "66a117531f210c03878034eceefde102",
     "grade": false,
     "grade_id": "cell-712c5d5bf721ba07",
     "locked": true,
     "schema_version": 3,
     "solution": false,
     "task": false
    }
   },
   "source": [
    "**Question 2.0**\n",
    "<br> {points: 1}\n",
    "\n",
    "Next we use `mutate` again to create a new column called `model_statistics` where we use `map` to apply the `glance` function to each of our models (in the `models` column) to get the model-level statistics (this is where we can get the value for total within sum of squares that we use to choose K). \n",
    "\n",
    "> Here, because we are interating over the first argument to the `glance` function (which is the `models` column), we can use the simpler syntax for `map` as we did earlier in the course.\n",
    "\n",
    "*Assign your answer to an object named `beer_model_stats`.*"
   ]
  },
  {
   "cell_type": "code",
   "execution_count": 30,
   "metadata": {
    "deletable": false,
    "nbgrader": {
     "cell_type": "code",
     "checksum": "c3e7f42ebb10231f202786322dc929fe",
     "grade": false,
     "grade_id": "cell-e5550ab0d15e904b",
     "locked": false,
     "schema_version": 3,
     "solution": true
    }
   },
   "outputs": [
    {
     "name": "stdout",
     "output_type": "stream",
     "text": [
      "\u001b[90m# A tibble: 10 x 3\u001b[39m\n",
      "       k models   model_statistics\n",
      "   \u001b[3m\u001b[90m<int>\u001b[39m\u001b[23m \u001b[3m\u001b[90m<list>\u001b[39m\u001b[23m   \u001b[3m\u001b[90m<list>\u001b[39m\u001b[23m          \n",
      "\u001b[90m 1\u001b[39m     1 \u001b[90m<kmeans>\u001b[39m \u001b[90m<tibble [1 × 4]>\u001b[39m\n",
      "\u001b[90m 2\u001b[39m     2 \u001b[90m<kmeans>\u001b[39m \u001b[90m<tibble [1 × 4]>\u001b[39m\n",
      "\u001b[90m 3\u001b[39m     3 \u001b[90m<kmeans>\u001b[39m \u001b[90m<tibble [1 × 4]>\u001b[39m\n",
      "\u001b[90m 4\u001b[39m     4 \u001b[90m<kmeans>\u001b[39m \u001b[90m<tibble [1 × 4]>\u001b[39m\n",
      "\u001b[90m 5\u001b[39m     5 \u001b[90m<kmeans>\u001b[39m \u001b[90m<tibble [1 × 4]>\u001b[39m\n",
      "\u001b[90m 6\u001b[39m     6 \u001b[90m<kmeans>\u001b[39m \u001b[90m<tibble [1 × 4]>\u001b[39m\n",
      "\u001b[90m 7\u001b[39m     7 \u001b[90m<kmeans>\u001b[39m \u001b[90m<tibble [1 × 4]>\u001b[39m\n",
      "\u001b[90m 8\u001b[39m     8 \u001b[90m<kmeans>\u001b[39m \u001b[90m<tibble [1 × 4]>\u001b[39m\n",
      "\u001b[90m 9\u001b[39m     9 \u001b[90m<kmeans>\u001b[39m \u001b[90m<tibble [1 × 4]>\u001b[39m\n",
      "\u001b[90m10\u001b[39m    10 \u001b[90m<kmeans>\u001b[39m \u001b[90m<tibble [1 × 4]>\u001b[39m\n"
     ]
    }
   ],
   "source": [
    "# ... <- ... %>% \n",
    "    # mutate(... = map(models, ...))\n",
    "\n",
    "# your code here\n",
    "beer_model_stats <- beer_clustering %>% \n",
    "     mutate(model_statistics = map(models, glance))\n",
    "print(beer_model_stats)"
   ]
  },
  {
   "cell_type": "code",
   "execution_count": 31,
   "metadata": {
    "deletable": false,
    "editable": false,
    "nbgrader": {
     "cell_type": "code",
     "checksum": "ed4a4ef54021ac637f9a2ee5f82fa5ba",
     "grade": true,
     "grade_id": "cell-a3574637a73eada8",
     "locked": true,
     "points": 1,
     "schema_version": 3,
     "solution": false
    }
   },
   "outputs": [
    {
     "name": "stdout",
     "output_type": "stream",
     "text": [
      "[1] \"Success!\"\n"
     ]
    }
   ],
   "source": [
    "test_2.0()"
   ]
  },
  {
   "cell_type": "markdown",
   "metadata": {},
   "source": [
    "> Here when we create our third column, called `model_statistics`, we can see it is another list column! This time it contains data frames instead of models! Run the cell below to see how you can look at the data frame that is stored as the first element of the `model_statistics` column (model where we used $k$ = 1):"
   ]
  },
  {
   "cell_type": "code",
   "execution_count": 32,
   "metadata": {},
   "outputs": [
    {
     "data": {
      "text/html": [
       "<ol>\n",
       "\t<li><table>\n",
       "<caption>A tibble: 1 × 4</caption>\n",
       "<thead>\n",
       "\t<tr><th scope=col>totss</th><th scope=col>tot.withinss</th><th scope=col>betweenss</th><th scope=col>iter</th></tr>\n",
       "\t<tr><th scope=col>&lt;dbl&gt;</th><th scope=col>&lt;dbl&gt;</th><th scope=col>&lt;dbl&gt;</th><th scope=col>&lt;int&gt;</th></tr>\n",
       "</thead>\n",
       "<tbody>\n",
       "\t<tr><td>2808</td><td>2808</td><td>-2.273737e-12</td><td>1</td></tr>\n",
       "</tbody>\n",
       "</table>\n",
       "</li>\n",
       "</ol>\n"
      ],
      "text/latex": [
       "\\begin{enumerate}\n",
       "\\item A tibble: 1 × 4\n",
       "\\begin{tabular}{llll}\n",
       " totss & tot.withinss & betweenss & iter\\\\\n",
       " <dbl> & <dbl> & <dbl> & <int>\\\\\n",
       "\\hline\n",
       "\t 2808 & 2808 & -2.273737e-12 & 1\\\\\n",
       "\\end{tabular}\n",
       "\n",
       "\\end{enumerate}\n"
      ],
      "text/markdown": [
       "1. \n",
       "A tibble: 1 × 4\n",
       "\n",
       "| totss &lt;dbl&gt; | tot.withinss &lt;dbl&gt; | betweenss &lt;dbl&gt; | iter &lt;int&gt; |\n",
       "|---|---|---|---|\n",
       "| 2808 | 2808 | -2.273737e-12 | 1 |\n",
       "\n",
       "\n",
       "\n",
       "\n"
      ],
      "text/plain": [
       "[[1]]\n",
       "\u001b[90m# A tibble: 1 x 4\u001b[39m\n",
       "  totss tot.withinss betweenss  iter\n",
       "  \u001b[3m\u001b[90m<dbl>\u001b[39m\u001b[23m        \u001b[3m\u001b[90m<dbl>\u001b[39m\u001b[23m     \u001b[3m\u001b[90m<dbl>\u001b[39m\u001b[23m \u001b[3m\u001b[90m<int>\u001b[39m\u001b[23m\n",
       "\u001b[90m1\u001b[39m \u001b[4m2\u001b[24m808.        \u001b[4m2\u001b[24m808. -\u001b[31m2\u001b[39m\u001b[31m.\u001b[39m\u001b[31m27\u001b[39m\u001b[90me\u001b[39m\u001b[31m-12\u001b[39m     1\n"
      ]
     },
     "metadata": {},
     "output_type": "display_data"
    }
   ],
   "source": [
    "beer_model_stats %>% \n",
    "    slice(1) %>% \n",
    "    pull(model_statistics)"
   ]
  },
  {
   "cell_type": "markdown",
   "metadata": {
    "deletable": false,
    "editable": false,
    "nbgrader": {
     "cell_type": "markdown",
     "checksum": "3d2ee0e816a727fe18f83a55e39d51bd",
     "grade": false,
     "grade_id": "cell-888915107f007211",
     "locked": true,
     "schema_version": 3,
     "solution": false,
     "task": false
    }
   },
   "source": [
    "**Question 2.1**\n",
    "<br> {points: 1}\n",
    "\n",
    "Now we use the `unnest` function to expand the data frames in the `model_statistics` column so that we can access the values for total within sum of squares as a column. \n",
    "\n",
    "*Assign your answer to an object named `beer_clustering_unnested`.*"
   ]
  },
  {
   "cell_type": "code",
   "execution_count": 33,
   "metadata": {
    "deletable": false,
    "nbgrader": {
     "cell_type": "code",
     "checksum": "99e37b0de7e5d8e410391f3af6a72ed5",
     "grade": false,
     "grade_id": "cell-310e2643cf08b8db",
     "locked": false,
     "schema_version": 3,
     "solution": true
    }
   },
   "outputs": [
    {
     "name": "stdout",
     "output_type": "stream",
     "text": [
      "\u001b[90m# A tibble: 10 x 6\u001b[39m\n",
      "       k models   totss tot.withinss betweenss  iter\n",
      "   \u001b[3m\u001b[90m<int>\u001b[39m\u001b[23m \u001b[3m\u001b[90m<list>\u001b[39m\u001b[23m   \u001b[3m\u001b[90m<dbl>\u001b[39m\u001b[23m        \u001b[3m\u001b[90m<dbl>\u001b[39m\u001b[23m     \u001b[3m\u001b[90m<dbl>\u001b[39m\u001b[23m \u001b[3m\u001b[90m<int>\u001b[39m\u001b[23m\n",
      "\u001b[90m 1\u001b[39m     1 \u001b[90m<kmeans>\u001b[39m \u001b[4m2\u001b[24m808.        \u001b[4m2\u001b[24m808. -\u001b[31m2\u001b[39m\u001b[31m.\u001b[39m\u001b[31m27\u001b[39m\u001b[90me\u001b[39m\u001b[31m-12\u001b[39m     1\n",
      "\u001b[90m 2\u001b[39m     2 \u001b[90m<kmeans>\u001b[39m \u001b[4m2\u001b[24m808.        \u001b[4m1\u001b[24m110.  1.70\u001b[90me\u001b[39m+ 3     1\n",
      "\u001b[90m 3\u001b[39m     3 \u001b[90m<kmeans>\u001b[39m \u001b[4m2\u001b[24m808.         803.  2.00\u001b[90me\u001b[39m+ 3     3\n",
      "\u001b[90m 4\u001b[39m     4 \u001b[90m<kmeans>\u001b[39m \u001b[4m2\u001b[24m808.         624.  2.18\u001b[90me\u001b[39m+ 3     3\n",
      "\u001b[90m 5\u001b[39m     5 \u001b[90m<kmeans>\u001b[39m \u001b[4m2\u001b[24m808.         567.  2.24\u001b[90me\u001b[39m+ 3     3\n",
      "\u001b[90m 6\u001b[39m     6 \u001b[90m<kmeans>\u001b[39m \u001b[4m2\u001b[24m808.         417.  2.39\u001b[90me\u001b[39m+ 3     6\n",
      "\u001b[90m 7\u001b[39m     7 \u001b[90m<kmeans>\u001b[39m \u001b[4m2\u001b[24m808.         361.  2.45\u001b[90me\u001b[39m+ 3     6\n",
      "\u001b[90m 8\u001b[39m     8 \u001b[90m<kmeans>\u001b[39m \u001b[4m2\u001b[24m808.         318.  2.49\u001b[90me\u001b[39m+ 3     5\n",
      "\u001b[90m 9\u001b[39m     9 \u001b[90m<kmeans>\u001b[39m \u001b[4m2\u001b[24m808.         294.  2.51\u001b[90me\u001b[39m+ 3     4\n",
      "\u001b[90m10\u001b[39m    10 \u001b[90m<kmeans>\u001b[39m \u001b[4m2\u001b[24m808.         264.  2.54\u001b[90me\u001b[39m+ 3     6\n"
     ]
    }
   ],
   "source": [
    "# ... <- ... %>% unnest(model_statistics)\n",
    "# your code here\n",
    "beer_clustering_unnested <- beer_model_stats %>% unnest(model_statistics)\n",
    "print(beer_clustering_unnested)"
   ]
  },
  {
   "cell_type": "code",
   "execution_count": 34,
   "metadata": {
    "deletable": false,
    "editable": false,
    "nbgrader": {
     "cell_type": "code",
     "checksum": "3b4618ff5afd9f4cd8e729c244f7ec33",
     "grade": true,
     "grade_id": "cell-a3da38618bb71a0c",
     "locked": true,
     "points": 1,
     "schema_version": 3,
     "solution": false
    }
   },
   "outputs": [
    {
     "name": "stdout",
     "output_type": "stream",
     "text": [
      "[1] \"Success!\"\n"
     ]
    }
   ],
   "source": [
    "test_2.1()"
   ]
  },
  {
   "cell_type": "markdown",
   "metadata": {
    "deletable": false,
    "editable": false,
    "nbgrader": {
     "cell_type": "markdown",
     "checksum": "8dfac1657002238da63db22b6c98b754",
     "grade": false,
     "grade_id": "cell-671e8f2244d62bbb",
     "locked": true,
     "schema_version": 3,
     "solution": false,
     "task": false
    }
   },
   "source": [
    "**Question 2.2**\n",
    "<br> {points: 1}\n",
    "\n",
    "We now have the the values for total within-cluster sum of squares for each model in a column (`tot.withinss`). Let's use it to create a line plot with points of total within-cluster sum of squares versus k, so that we can choose the best number of clusters to use. \n",
    "\n",
    "*Assign your plot to an object called `choose_beer_k`. Total within-cluster sum of squares should be on the y-axis and K should be on the x-axis. Remember to follow the best visualization practices, including adding human-readable labels to your plot.*"
   ]
  },
  {
   "cell_type": "code",
   "execution_count": 35,
   "metadata": {
    "deletable": false,
    "nbgrader": {
     "cell_type": "code",
     "checksum": "f247de529aecfec576ae9b9297e946b6",
     "grade": false,
     "grade_id": "cell-8a414509ff54b5ec",
     "locked": false,
     "schema_version": 3,
     "solution": true
    }
   },
   "outputs": [
    {
     "data": {
      "image/png": "[encoded data removed]",
      "text/plain": [
       "plot without title"
      ]
     },
     "metadata": {
      "image/png": {
       "height": 420,
       "width": 480
      }
     },
     "output_type": "display_data"
    }
   ],
   "source": [
    "options(repr.plot.width = 8, repr.plot.height = 7)\n",
    "\n",
    "# your code here\n",
    "choose_beer_k <- ggplot(beer_clustering_unnested, aes(x = k, y = tot.withinss)) +\n",
    "  geom_point() +\n",
    "  geom_line() +\n",
    "  xlab(\"K\") +\n",
    "  ylab(\"Total within-cluster sum of squares\") +\n",
    "  scale_x_continuous(breaks = 1:10)+\n",
    "  theme(text = element_text(size = 14))\n",
    "choose_beer_k"
   ]
  },
  {
   "cell_type": "code",
   "execution_count": 36,
   "metadata": {
    "deletable": false,
    "editable": false,
    "nbgrader": {
     "cell_type": "code",
     "checksum": "c82e169acdc86638c062a9f10954a262",
     "grade": true,
     "grade_id": "cell-3e758ca8ceea0217",
     "locked": true,
     "points": 1,
     "schema_version": 3,
     "solution": false
    }
   },
   "outputs": [
    {
     "name": "stdout",
     "output_type": "stream",
     "text": [
      "[1] \"Success!\"\n"
     ]
    }
   ],
   "source": [
    "test_2.2()"
   ]
  },
  {
   "cell_type": "markdown",
   "metadata": {
    "deletable": false,
    "editable": false,
    "nbgrader": {
     "cell_type": "markdown",
     "checksum": "bd8164ec87f57af15b00c5c61b0ee9e0",
     "grade": false,
     "grade_id": "cell-790ae1331636b0f3",
     "locked": true,
     "schema_version": 3,
     "solution": false,
     "task": false
    }
   },
   "source": [
    "**Question 2.3**\n",
    "<br> {points: 1}\n",
    "\n",
    "From the plot above, which $k$ should we choose? \n",
    "\n",
    "*Assign your answer to an object called `answer2.3`. Make sure your answer is a single numerical character surrounded by quotation marks.*"
   ]
  },
  {
   "cell_type": "code",
   "execution_count": 37,
   "metadata": {
    "deletable": false,
    "nbgrader": {
     "cell_type": "code",
     "checksum": "4489acbc06e2879ca35fca09d6766cba",
     "grade": false,
     "grade_id": "cell-bd38240a36b3d416",
     "locked": false,
     "schema_version": 3,
     "solution": true
    }
   },
   "outputs": [],
   "source": [
    "# your code here\n",
    "answer2.3 <- \"2\""
   ]
  },
  {
   "cell_type": "code",
   "execution_count": 38,
   "metadata": {
    "deletable": false,
    "editable": false,
    "nbgrader": {
     "cell_type": "code",
     "checksum": "0e77c20b27466e92f76fc4a9fb45b557",
     "grade": true,
     "grade_id": "cell-62328bcd821daea9",
     "locked": true,
     "points": 1,
     "schema_version": 3,
     "solution": false
    }
   },
   "outputs": [
    {
     "name": "stdout",
     "output_type": "stream",
     "text": [
      "[1] \"Success!\"\n"
     ]
    }
   ],
   "source": [
    "test_2.3()"
   ]
  },
  {
   "cell_type": "markdown",
   "metadata": {
    "deletable": false,
    "editable": false,
    "nbgrader": {
     "cell_type": "markdown",
     "checksum": "675f0761a4f2553103dd76a74df8bb80",
     "grade": false,
     "grade_id": "cell-ef050c1e9d2e38a3",
     "locked": true,
     "schema_version": 3,
     "solution": false,
     "task": false
    }
   },
   "source": [
    "**Question 2.4**\n",
    "<br> {points: 1}\n",
    "\n",
    "Why did we choose the $k$ we chose above?\n",
    "\n",
    "A. It had the greatest total within-cluster sum of squares\n",
    "\n",
    "B. It had the smallest total within-cluster sum of squares\n",
    "\n",
    "C. Increasing $k$ further than this only decreased the total within-cluster sum of squares a small amount\n",
    "\n",
    "D. Increasing k further than this only increased the total within-cluster sum of squares a small amount\n",
    "\n",
    "*Assign your answer to an object called `answer2.4`. Make sure your answer is an uppercase letter and is surrounded by quotation marks (e.g. `\"F\"`).*"
   ]
  },
  {
   "cell_type": "code",
   "execution_count": 39,
   "metadata": {
    "deletable": false,
    "nbgrader": {
     "cell_type": "code",
     "checksum": "0dbcb127e101fdcdafb3363e505b0d8a",
     "grade": false,
     "grade_id": "cell-7119273f4bf5c70f",
     "locked": false,
     "schema_version": 3,
     "solution": true,
     "task": false
    }
   },
   "outputs": [],
   "source": [
    "# your code here\n",
    "answer2.4 <- \"C\""
   ]
  },
  {
   "cell_type": "code",
   "execution_count": 40,
   "metadata": {
    "deletable": false,
    "editable": false,
    "nbgrader": {
     "cell_type": "code",
     "checksum": "68596309b0ad251f094173d652ec881b",
     "grade": true,
     "grade_id": "cell-65273d2d7700f564",
     "locked": true,
     "points": 1,
     "schema_version": 3,
     "solution": false,
     "task": false
    }
   },
   "outputs": [
    {
     "name": "stdout",
     "output_type": "stream",
     "text": [
      "[1] \"Success!\"\n"
     ]
    }
   ],
   "source": [
    "test_2.4()"
   ]
  },
  {
   "cell_type": "markdown",
   "metadata": {
    "deletable": false,
    "editable": false,
    "nbgrader": {
     "cell_type": "markdown",
     "checksum": "bcba581fdb7d29f64082639e3f7025b0",
     "grade": false,
     "grade_id": "cell-e28e4f23066bcf9a",
     "locked": true,
     "schema_version": 3,
     "solution": false,
     "task": false
    }
   },
   "source": [
    "**Question 2.5** Multiple Choice:\n",
    "<br> {points: 1}\n",
    "\n",
    "What can we conclude from our analysis? How many different types of hoppy craft beer are there in this data set using the two variables we have? \n",
    "\n",
    "\n",
    "A. 1\n",
    "\n",
    "B. 2\n",
    "\n",
    "C. 3 \n",
    "\n",
    "D. 4\n",
    "\n",
    "*Assign your answer to an object called `answer2.5`. Make sure your answer is an uppercase letter and is surrounded by quotation marks (e.g. `\"F\"`).*"
   ]
  },
  {
   "cell_type": "code",
   "execution_count": 41,
   "metadata": {
    "deletable": false,
    "nbgrader": {
     "cell_type": "code",
     "checksum": "9192f530ce56807df607de58b3b57542",
     "grade": false,
     "grade_id": "cell-5933faf0f7947187",
     "locked": false,
     "schema_version": 3,
     "solution": true,
     "task": false
    }
   },
   "outputs": [],
   "source": [
    "# your code here\n",
    "answer2.5 <- \"B\""
   ]
  },
  {
   "cell_type": "code",
   "execution_count": 42,
   "metadata": {
    "deletable": false,
    "editable": false,
    "nbgrader": {
     "cell_type": "code",
     "checksum": "1358e2ef19a23f3e72a388ca8fde34d4",
     "grade": true,
     "grade_id": "cell-76e5f8ab2c8eb674",
     "locked": true,
     "points": 1,
     "schema_version": 3,
     "solution": false,
     "task": false
    }
   },
   "outputs": [
    {
     "name": "stdout",
     "output_type": "stream",
     "text": [
      "[1] \"Success!\"\n"
     ]
    }
   ],
   "source": [
    "test_2.5()"
   ]
  },
  {
   "cell_type": "markdown",
   "metadata": {
    "deletable": false,
    "editable": false,
    "nbgrader": {
     "cell_type": "markdown",
     "checksum": "6b7cbe33a8c897d4d99538711fa9c39e",
     "grade": false,
     "grade_id": "cell-91d519c3b41719e6",
     "locked": true,
     "schema_version": 3,
     "solution": false,
     "task": false
    }
   },
   "source": [
    "**Question 2.6** True or false:\n",
    "<br> {points: 1}\n",
    "\n",
    "Our analysis might change if we added additional variables, true or false?\n",
    "\n",
    "*Assign your answer to an object called `answer2.6`. Make sure your answer is written in lowercase and is surrounded by quotation marks (e.g. `\"true\"` or `\"false\"`).* "
   ]
  },
  {
   "cell_type": "code",
   "execution_count": 43,
   "metadata": {
    "deletable": false,
    "nbgrader": {
     "cell_type": "code",
     "checksum": "dec03e7c7c3824361ccf841e60e2a027",
     "grade": false,
     "grade_id": "cell-862c99c6ebefdc17",
     "locked": false,
     "schema_version": 3,
     "solution": true,
     "task": false
    }
   },
   "outputs": [],
   "source": [
    "# your code here\n",
    "answer2.6 <- \"true\""
   ]
  },
  {
   "cell_type": "code",
   "execution_count": 44,
   "metadata": {
    "deletable": false,
    "editable": false,
    "nbgrader": {
     "cell_type": "code",
     "checksum": "fde891dced65fcedd8b79c14acabb242",
     "grade": true,
     "grade_id": "cell-4ce39cad803fddf2",
     "locked": true,
     "points": 1,
     "schema_version": 3,
     "solution": false,
     "task": false
    }
   },
   "outputs": [
    {
     "name": "stdout",
     "output_type": "stream",
     "text": [
      "[1] \"Success!\"\n"
     ]
    }
   ],
   "source": [
    "test_2.6()"
   ]
  },
  {
   "cell_type": "code",
   "execution_count": 45,
   "metadata": {
    "deletable": false,
    "editable": false,
    "nbgrader": {
     "cell_type": "code",
     "checksum": "a8ed1a5cba09b72ee697554ae90470fa",
     "grade": false,
     "grade_id": "cell-40c8760369f78526",
     "locked": true,
     "schema_version": 3,
     "solution": false,
     "task": false
    }
   },
   "outputs": [],
   "source": [
    "source(\"cleanup_worksheet_10.R\")"
   ]
  }
 ],
 "metadata": {
  "kernelspec": {
   "display_name": "R",
   "language": "R",
   "name": "ir"
  },
  "language_info": {
   "codemirror_mode": "r",
   "file_extension": ".r",
   "mimetype": "text/x-r-source",
   "name": "R",
   "pygments_lexer": "r",
   "version": "4.0.0"
  }
 },
 "nbformat": 4,
 "nbformat_minor": 4
}
